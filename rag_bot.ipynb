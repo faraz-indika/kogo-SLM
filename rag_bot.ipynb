{
 "cells": [
  {
   "cell_type": "code",
   "execution_count": null,
   "metadata": {},
   "outputs": [],
   "source": [
    "from langchain.document_loaders import UnstructuredExcelLoader\n",
    "from langchain.text_splitter import RecursiveCharacterTextSplitter\n",
    "from tqdm.autonotebook import tqdm, trange\n",
    "from langchain_huggingface import HuggingFaceEmbeddings\n",
    "from langchain.vectorstores import FAISS\n",
    "from langchain_community.llms import Ollama\n",
    "from langchain_core.prompts import PromptTemplate\n",
    "from langchain.chains import ConversationalRetrievalChain"
   ]
  },
  {
   "cell_type": "code",
   "execution_count": null,
   "metadata": {},
   "outputs": [],
   "source": [
    "DB_PATH = \"vectorstore/db_faiss\"\n",
    "LLM = 'phi3:mini'\n",
    "DATA = 'Data/synth.xlsx'"
   ]
  },
  {
   "cell_type": "code",
   "execution_count": null,
   "metadata": {},
   "outputs": [],
   "source": [
    "loader = UnstructuredExcelLoader(DATA)\n",
    "docs = loader.load()"
   ]
  },
  {
   "cell_type": "code",
   "execution_count": null,
   "metadata": {},
   "outputs": [],
   "source": [
    "docs"
   ]
  },
  {
   "cell_type": "code",
   "execution_count": null,
   "metadata": {},
   "outputs": [],
   "source": [
    "text_splitter = RecursiveCharacterTextSplitter(chunk_size = 500, chunk_overlap = 0)\n",
    "text_chunks = text_splitter.split_documents(docs)\n",
    "len(text_chunks)"
   ]
  },
  {
   "cell_type": "code",
   "execution_count": null,
   "metadata": {},
   "outputs": [],
   "source": [
    "embeddings = HuggingFaceEmbeddings(model_name = 'sentence-transformers/all-MiniLM-L6-v2')"
   ]
  },
  {
   "cell_type": "code",
   "execution_count": null,
   "metadata": {},
   "outputs": [],
   "source": [
    "docsearch = FAISS.from_documents(text_chunks, embeddings)\n",
    "docsearch.save_local(DB_PATH)"
   ]
  },
  {
   "cell_type": "code",
   "execution_count": null,
   "metadata": {},
   "outputs": [],
   "source": [
    "# PERFORMANCE CHECK USING SIMILARITY SEARCH \n",
    "# query = 'what is the type of  Flagship 46050 Hotel Roof Top?'\n",
    "query = 'What is the Published Price of Royal Residency?'\n",
    "results = docsearch.similarity_search(query, k = 3)\n",
    "results"
   ]
  },
  {
   "cell_type": "code",
   "execution_count": null,
   "metadata": {},
   "outputs": [],
   "source": [
    "llm = Ollama(\n",
    "    model = LLM,\n",
    "    temperature=0.1\n",
    "    )"
   ]
  },
  {
   "cell_type": "code",
   "execution_count": null,
   "metadata": {},
   "outputs": [],
   "source": [
    "template = (\n",
    "    ''' \n",
    "    You will be provided information about Hotels and you have to reply to user's query fetching information from the same.\n",
    "    Below you will be given a list of data of Hotels in the format:\n",
    "    'id'\n",
    "    'Hotel Name'\n",
    "    'Star Rating'\n",
    "    'Latitude'\n",
    "    'Longitude'\n",
    "    'Currency Code'\n",
    "    'Room Price'\n",
    "    'Tax'\n",
    "    'Extra Guest Charge'\n",
    "    'Child Charge'\n",
    "    'Other Charges'\n",
    "    'Discount'\n",
    "    'type'\n",
    "    'Base Rate'\n",
    "    'Base Rate Rounded Off'\n",
    "    'Published Price'\n",
    "    'Published Price Rounded Off'\n",
    "    'Offered Price'\n",
    "    'Offered Price Rounded Off'\n",
    "    'Agent Commission'\n",
    "    'Agent Mark Up'\n",
    "    'Service Tax'\n",
    "    'TCS'\n",
    "    'TDS'\n",
    "    'Service Charge'\n",
    "    'Total GST Amount'\n",
    "    'CGST Amount'\n",
    "    'CGST Rate'\n",
    "    'Cess Amount'\n",
    "    'Cess Rate'\n",
    "    'IGST Amount'\n",
    "    'IGST Rate'\n",
    "    'SGST Amount'\n",
    "    'SGST Rate'\n",
    "    'Taxable Amount' \n",
    "\n",
    "    {context}\n",
    "    \n",
    "    {chat_history}\n",
    "    The follow up question by user is: {question}\n",
    "    '''\n",
    ")\n",
    "prompt = PromptTemplate.from_template(template)"
   ]
  },
  {
   "cell_type": "code",
   "execution_count": null,
   "metadata": {},
   "outputs": [],
   "source": [
    "qa = ConversationalRetrievalChain.from_llm(llm = llm, retriever = docsearch.as_retriever(), combine_docs_chain_kwargs={\"prompt\": prompt}, verbose = True)"
   ]
  },
  {
   "cell_type": "code",
   "execution_count": null,
   "metadata": {},
   "outputs": [],
   "source": [
    "# TEMPORARY UI\n",
    "import sys\n",
    "while True:\n",
    "    chat_history = []\n",
    "    query = input(f\"Input Prompt: \")\n",
    "    print(\"QUERY: \", query)\n",
    "    if query == 'exit':\n",
    "        print('Exiting')\n",
    "        sys.exit()\n",
    "    if query == '':\n",
    "        continue\n",
    "    result = qa({\"question\": query, \"chat_history\": chat_history})\n",
    "    print(\"RESPONSE: \", result['answer'])"
   ]
  },
  {
   "cell_type": "markdown",
   "metadata": {},
   "source": [
    "----------------------------------------------------------------------"
   ]
  }
 ],
 "metadata": {
  "kernelspec": {
   "display_name": "check",
   "language": "python",
   "name": "python3"
  },
  "language_info": {
   "codemirror_mode": {
    "name": "ipython",
    "version": 3
   },
   "file_extension": ".py",
   "mimetype": "text/x-python",
   "name": "python",
   "nbconvert_exporter": "python",
   "pygments_lexer": "ipython3",
   "version": "3.12.3"
  }
 },
 "nbformat": 4,
 "nbformat_minor": 2
}
